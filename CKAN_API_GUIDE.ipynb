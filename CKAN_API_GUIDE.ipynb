{
 "cells": [
  {
   "cell_type": "markdown",
   "metadata": {},
   "source": [
    "# CKAN API GUIDE "
   ]
  },
  {
   "cell_type": "markdown",
   "metadata": {},
   "source": [
    "In the following we will demonstrate the usage of the CKAN-API for the Datenportal of the metroplitan area rhine-neckar.\n",
    "This notebook only contains examples of what we think will be the most common use cases. If you want to know more please visit the [CKAN-API guide](\"https://docs.ckan.org/en/2.9/api/\"). If you can't find what you are looking for there please contact us directly.\n",
    "#### Please note:  \n",
    "\n",
    "Because of the naming of our ressources you can't query for them directly (all of them are named like their format e.g. GeoJSON or GPKG). You need to search the corresponding package and extract the resource-url form there. The process of doing so is demonstratet in a few of the following examples."
   ]
  },
  {
   "cell_type": "code",
   "execution_count": 1,
   "metadata": {},
   "outputs": [],
   "source": [
    "import requests\n",
    "import geopandas as gpd"
   ]
  },
  {
   "cell_type": "markdown",
   "metadata": {},
   "source": [
    "### Get all package ids"
   ]
  },
  {
   "cell_type": "code",
   "execution_count": 2,
   "metadata": {},
   "outputs": [
    {
     "name": "stdout",
     "output_type": "stream",
     "text": [
      "['abfallkorb', 'abwasseranlage', 'alla_hopp', 'allgemeinaerzte', 'altenquotient', 'anteil_auslaender_gemeinde', 'anteil_auslaender_kreis', 'apotheke', 'arbeitsentgeld', 'arbeitslosenquote', 'arbeitslosenquote_zivile_erwerbspersonen', 'arbeitsvolumen_jahresdurchschnittliche_aenderung', 'attraktion', 'aussenwanderungssaldo', 'autobahnaehnlich', 'autobahnen', 'autovermietung', 'backerei', 'battlefield', 'bauhaus']\n"
     ]
    }
   ],
   "source": [
    "url = \"https://daten.digitale-mrn.de/api/3/action/package_list\"\n",
    "\n",
    "res = requests.get(url).json()\n",
    "\n",
    "# show the first 20\n",
    "print(res['result'][:20])"
   ]
  },
  {
   "cell_type": "markdown",
   "metadata": {},
   "source": [
    "### Get a dataset by id"
   ]
  },
  {
   "cell_type": "code",
   "execution_count": 3,
   "metadata": {},
   "outputs": [
    {
     "data": {
      "text/html": [
       "<div>\n",
       "<style scoped>\n",
       "    .dataframe tbody tr th:only-of-type {\n",
       "        vertical-align: middle;\n",
       "    }\n",
       "\n",
       "    .dataframe tbody tr th {\n",
       "        vertical-align: top;\n",
       "    }\n",
       "\n",
       "    .dataframe thead th {\n",
       "        text-align: right;\n",
       "    }\n",
       "</style>\n",
       "<table border=\"1\" class=\"dataframe\">\n",
       "  <thead>\n",
       "    <tr style=\"text-align: right;\">\n",
       "      <th></th>\n",
       "      <th>geometry</th>\n",
       "      <th>Name</th>\n",
       "      <th>highway</th>\n",
       "      <th>int_ref</th>\n",
       "      <th>lanes</th>\n",
       "      <th>lit</th>\n",
       "      <th>maxspeed</th>\n",
       "      <th>oneway</th>\n",
       "      <th>overtaking.hgv.conditional</th>\n",
       "      <th>overtaking.trailer.conditional</th>\n",
       "      <th>...</th>\n",
       "      <th>sidewalk</th>\n",
       "      <th>maxspeed.wet</th>\n",
       "      <th>destination.symbol.lanes</th>\n",
       "      <th>source.hazard</th>\n",
       "      <th>incline</th>\n",
       "      <th>service</th>\n",
       "      <th>placement.forward</th>\n",
       "      <th>construction.maxspeed.conditional</th>\n",
       "      <th>toll.N3</th>\n",
       "      <th>transit.lanes</th>\n",
       "    </tr>\n",
       "  </thead>\n",
       "  <tbody>\n",
       "    <tr>\n",
       "      <th>0</th>\n",
       "      <td>LINESTRING (8.62752 49.54889, 8.62762 49.54792...</td>\n",
       "      <td>n/a</td>\n",
       "      <td>motorway</td>\n",
       "      <td>E 35</td>\n",
       "      <td>2</td>\n",
       "      <td>no</td>\n",
       "      <td>none</td>\n",
       "      <td>yes</td>\n",
       "      <td>no @ (06:00-21:00)</td>\n",
       "      <td>no @ (06:00-21:00)</td>\n",
       "      <td>...</td>\n",
       "      <td>None</td>\n",
       "      <td>None</td>\n",
       "      <td>None</td>\n",
       "      <td>None</td>\n",
       "      <td>None</td>\n",
       "      <td>None</td>\n",
       "      <td>None</td>\n",
       "      <td>None</td>\n",
       "      <td>None</td>\n",
       "      <td>None</td>\n",
       "    </tr>\n",
       "    <tr>\n",
       "      <th>1</th>\n",
       "      <td>LINESTRING (8.63166 49.59335, 8.63143 49.59447...</td>\n",
       "      <td>n/a</td>\n",
       "      <td>motorway</td>\n",
       "      <td>E 35</td>\n",
       "      <td>3</td>\n",
       "      <td>no</td>\n",
       "      <td>none</td>\n",
       "      <td>yes</td>\n",
       "      <td>no @ (06:00-21:00)</td>\n",
       "      <td>no @ (06:00-21:00)</td>\n",
       "      <td>...</td>\n",
       "      <td>None</td>\n",
       "      <td>None</td>\n",
       "      <td>None</td>\n",
       "      <td>None</td>\n",
       "      <td>None</td>\n",
       "      <td>None</td>\n",
       "      <td>None</td>\n",
       "      <td>None</td>\n",
       "      <td>None</td>\n",
       "      <td>None</td>\n",
       "    </tr>\n",
       "  </tbody>\n",
       "</table>\n",
       "<p>2 rows × 92 columns</p>\n",
       "</div>"
      ],
      "text/plain": [
       "                                            geometry Name   highway int_ref  \\\n",
       "0  LINESTRING (8.62752 49.54889, 8.62762 49.54792...  n/a  motorway    E 35   \n",
       "1  LINESTRING (8.63166 49.59335, 8.63143 49.59447...  n/a  motorway    E 35   \n",
       "\n",
       "  lanes lit maxspeed oneway overtaking.hgv.conditional  \\\n",
       "0     2  no     none    yes         no @ (06:00-21:00)   \n",
       "1     3  no     none    yes         no @ (06:00-21:00)   \n",
       "\n",
       "  overtaking.trailer.conditional  ... sidewalk maxspeed.wet  \\\n",
       "0             no @ (06:00-21:00)  ...     None         None   \n",
       "1             no @ (06:00-21:00)  ...     None         None   \n",
       "\n",
       "  destination.symbol.lanes source.hazard incline service placement.forward  \\\n",
       "0                     None          None    None    None              None   \n",
       "1                     None          None    None    None              None   \n",
       "\n",
       "  construction.maxspeed.conditional toll.N3 transit.lanes  \n",
       "0                              None    None          None  \n",
       "1                              None    None          None  \n",
       "\n",
       "[2 rows x 92 columns]"
      ]
     },
     "execution_count": 3,
     "metadata": {},
     "output_type": "execute_result"
    }
   ],
   "source": [
    "url = \"https://daten.digitale-mrn.de/api/3/action/package_show\"\n",
    "\n",
    "# insert package id here, in this example we will request the package \"autbahnen\"\n",
    "params = {\n",
    "    'id':'autobahnen'\n",
    "}\n",
    "\n",
    "res = requests.get(url, params).json()\n",
    "\n",
    "data = res['result']\n",
    "\n",
    "########### create a geodataframe from the ressource ###########\n",
    "\n",
    "# ectract geoserver url from the resource of the dataset\n",
    "# Note: resources is an array and there can be multiple resources (GeoJSON, GPKG, WMS, CSV) for the same package,\n",
    "# we want the goejson one.\n",
    "for format_ in data['resources']:\n",
    "    # insert wanted format here\n",
    "    if(format_['format'] == 'GeoJSON'):\n",
    "        #extract geoserver url from ressource package\n",
    "        url_dataset = format_['url']\n",
    "\n",
    "        \n",
    "        # request data from geoserver\n",
    "        res_dataset = requests.get(url_dataset)\n",
    "        \n",
    "        # extract features form geojson\n",
    "        dataset_features = res_dataset.json()['features']\n",
    "\n",
    "        # create new gdf from features\n",
    "        gdf = gpd.GeoDataFrame.from_features(dataset_features)\n",
    "\n",
    "gdf.head(2)"
   ]
  },
  {
   "cell_type": "markdown",
   "metadata": {},
   "source": [
    "### Search for packages matching a query"
   ]
  },
  {
   "cell_type": "code",
   "execution_count": 4,
   "metadata": {},
   "outputs": [
    {
     "name": "stdout",
     "output_type": "stream",
     "text": [
      "{'count': 1, 'sort': 'score desc, metadata_modified desc', 'facets': {}, 'results': [{'license_title': 'Open Data Commons Open Database License (ODbL)', 'maintainer': '', 'relationships_as_object': [], 'private': False, 'maintainer_email': '', 'num_tags': 2, 'id': 'd11748f0-1e24-44d6-826c-5d3a9b374630', 'metadata_created': '2020-03-03T09:31:32.306214', 'metadata_modified': '2020-06-03T11:49:18.982506', 'author': '', 'author_email': '', 'state': 'active', 'version': '', 'creator_user_id': '70930133-5270-4d89-8270-558800f0f75a', 'type': 'dataset', 'resources': [{'mimetype': None, 'cache_url': None, 'hash': '', 'description': '', 'name': 'GeoJSON', 'format': 'GeoJSON', 'url': 'https://geoserver.digitale-mrn.de/geoserver/metropolatlas/ows?service=WFS&version=1.0.0&request=GetFeature&typeName=metropolatlas%3A2019-10_OSM_MRN_highway_motorway_4326&outputFormat=application%2Fjson', 'cache_last_updated': None, 'package_id': 'd11748f0-1e24-44d6-826c-5d3a9b374630', 'created': '2020-03-09T13:53:01.088958', 'state': 'active', 'mimetype_inner': None, 'last_modified': None, 'position': 0, 'revision_id': '17f22811-43e5-4bae-94cf-812a3571c820', 'url_type': None, 'id': 'e28bea81-41b1-4ce4-85af-530eaa1032ac', 'resource_type': None, 'size': None}, {'mimetype': None, 'cache_url': None, 'hash': '', 'description': '', 'name': 'CSV', 'format': 'CSV', 'url': 'https://geoserver.digitale-mrn.de/geoserver/metropolatlas/ows?service=WFS&version=1.0.0&request=GetFeature&typeName=metropolatlas%3A2019-10_OSM_MRN_highway_motorway_4326&outputFormat=csv', 'cache_last_updated': None, 'package_id': 'd11748f0-1e24-44d6-826c-5d3a9b374630', 'created': '2020-03-16T15:49:59.287995', 'state': 'active', 'mimetype_inner': None, 'last_modified': None, 'position': 1, 'revision_id': '367d7e0b-9809-4604-bff1-a75b31d45e75', 'url_type': None, 'id': '3d07f6ad-460d-4334-b891-003c869e88e1', 'resource_type': None, 'size': None}, {'mimetype': None, 'cache_url': None, 'hash': '', 'description': '', 'name': 'GeoPackage', 'format': 'GPKG', 'url': 'https://geoserver.digitale-mrn.de/geoserver/metropolatlas/ows?service=WFS&version=1.0.0&request=GetFeature&typeName=metropolatlas%3A2019-10_OSM_MRN_highway_motorway_4326&outputFormat=application%2Fx-gpkg', 'cache_last_updated': None, 'package_id': 'd11748f0-1e24-44d6-826c-5d3a9b374630', 'created': '2020-03-16T15:50:44.669492', 'state': 'active', 'mimetype_inner': None, 'last_modified': None, 'position': 2, 'revision_id': 'f8c699ba-10ee-482b-9960-a68759f6123c', 'url_type': None, 'id': '12e679b1-228f-4ba5-9063-bf1a486cd523', 'resource_type': None, 'size': None}, {'mimetype': None, 'cache_url': None, 'hash': '', 'description': '', 'name': 'WMS', 'format': 'WMS', 'url': 'https://geoserver.digitale-mrn.de/geoserver/metropolatlas/2019-10_OSM_MRN_highway_motorway_4326/wms?request=GetCapabilities', 'cache_last_updated': None, 'package_id': 'd11748f0-1e24-44d6-826c-5d3a9b374630', 'created': '2020-03-16T15:51:34.725639', 'state': 'active', 'mimetype_inner': None, 'last_modified': None, 'position': 3, 'revision_id': '7d57512d-f59b-4335-8b88-607e02315377', 'url_type': None, 'id': 'c0f5d31f-4548-45bb-be45-55686e83141a', 'resource_type': None, 'size': None}], 'num_resources': 4, 'tags': [{'vocabulary_id': None, 'state': 'active', 'display_name': 'Auto', 'id': '701884cd-0fce-4d51-8a27-45b0515d50c6', 'name': 'Auto'}, {'vocabulary_id': None, 'state': 'active', 'display_name': 'Mobilität', 'id': 'cfea921b-7331-493a-83d3-36fe6434fd40', 'name': 'Mobilität'}], 'groups': [{'display_name': 'Metropolatlas Rhein-Neckar', 'description': '', 'image_display_url': '', 'title': 'Metropolatlas Rhein-Neckar', 'id': '4599cfde-9638-4279-b808-029614d1a4a9', 'name': 'metropolatlas-rhein-neckar'}], 'license_id': 'odc-odbl', 'relationships_as_subject': [], 'organization': {'description': 'coming soon', 'created': '2020-02-26T13:35:18.099686', 'title': 'Metropolregion Rhein-Neckar', 'name': 'mrn', 'is_organization': True, 'state': 'active', 'image_url': '2020-03-02-154426.703142MRNLogoDachmarkefarbig.png', 'revision_id': 'aaefaae1-9184-4686-afc9-7c8b9aacde84', 'type': 'organization', 'id': 'dd656913-cfa5-45ec-9423-7b0113324fbc', 'approval_status': 'approved'}, 'name': 'autobahnen', 'isopen': True, 'url': 'OpenStreetMap-Mitwirkende', 'notes': 'Hierunter fallen Straßen mit baulich getrennten Fahrtrichtungen (im allgemeinen Grünstreifen) und besonderen Nutzungsbeschränkungen \\r\\n\\r\\nWeitere Infos: https://wiki.openstreetmap.org/wiki/DE:Tag:highway%3Dmotorway  ', 'owner_org': 'dd656913-cfa5-45ec-9423-7b0113324fbc', 'extras': [{'key': 'source', 'value': 'https://www.openstreetmap.org/'}], 'license_url': 'http://www.opendefinition.org/licenses/odc-odbl', 'title': 'Autobahnen', 'revision_id': 'b5c4dc85-cc06-4d5d-8dc9-141180bbdf08'}], 'search_facets': {}}\n"
     ]
    }
   ],
   "source": [
    "url = \"https://daten.digitale-mrn.de/api/3/action/package_search\"\n",
    "\n",
    "\n",
    "# search for packages with the substring LuftDatenInfo in title\n",
    "params = {\n",
    "    'q':'title:LuftDatenInfo'\n",
    "    \n",
    "}\n",
    "\n",
    "# search for specific title. Note: space characters must be replaced by '-'\n",
    "params_2 = {\n",
    "    'q':'title:LuftDatenInfo-Feinstaubemissionen-der-Partikelgröße-PM2.5'\n",
    "}\n",
    "\n",
    "# you can also query for ids. Note: in the query syntax id is called name\n",
    "params_3 = {\n",
    "    'q':'name:autobahnen'\n",
    "    \n",
    "}\n",
    "\n",
    "res = requests.get(url, params_3).json()\n",
    "\n",
    "print(res['result'])"
   ]
  },
  {
   "cell_type": "markdown",
   "metadata": {},
   "source": [
    "### Get a list of all tags"
   ]
  },
  {
   "cell_type": "code",
   "execution_count": 5,
   "metadata": {},
   "outputs": [
    {
     "name": "stdout",
     "output_type": "stream",
     "text": [
      "['Auto', 'Bevölkerung', 'Bildung', 'Daseinsvorsorge', 'Demograpie', 'Digitalisierung', 'Ehrenamt', 'Elektromobilität', 'Engagement', 'Events', 'Fahrrad', 'Familie', 'Gastronomie', 'GeoJSON', 'Gesundheit', 'Grenzen', 'Infrastruktur', 'Kriminalität', 'Kultur', 'Ladesäulen', 'Lebensqualität', 'Mobilität', 'Motorisierter Individualverkehr', 'MRN', 'Natur', 'ÖPNV', 'Parken', 'Planen u. Bauen', 'Sharing Economy', 'Sport', 'Tourismus', 'Umwelt', 'Verkehr', 'Verkehrsinfrastruktur', 'Verkehrsmodell', 'Verwaltungseinheiten', 'Wirtschaft', 'Zulassungszahlen']\n"
     ]
    }
   ],
   "source": [
    "url = \"https://daten.digitale-mrn.de/api/3/action/tag_list\"\n",
    "\n",
    "res = requests.get(url).json()\n",
    "\n",
    "print(res['result'])"
   ]
  },
  {
   "cell_type": "markdown",
   "metadata": {},
   "source": [
    "### Download all ressources for a specific tag"
   ]
  },
  {
   "cell_type": "code",
   "execution_count": 7,
   "metadata": {},
   "outputs": [
    {
     "name": "stdout",
     "output_type": "stream",
     "text": [
      "{'license_title': 'Open Data Commons Open Database License (ODbL)', 'maintainer': '', 'relationships_as_object': [], 'private': False, 'maintainer_email': '', 'num_tags': 3, 'id': '1fb951f9-dd0e-4bfc-b87b-06f8c3d8a49d', 'metadata_created': '2020-04-15T10:21:06.601922', 'metadata_modified': '2020-10-21T10:04:48.100700', 'author': '', 'author_email': '', 'state': 'active', 'version': '', 'creator_user_id': '70930133-5270-4d89-8270-558800f0f75a', 'type': 'dataset', 'resources': [{'mimetype': None, 'cache_url': None, 'hash': '', 'description': '', 'name': 'GeoJSON', 'format': 'GeoJSON', 'url': 'https://geoserver.digitale-mrn.de/geoserver/metropolatlas/ows?service=WFS&version=1.0.0&request=GetFeature&typeName=metropolatlas%3A2020_04_OSM_Skript_Education_MRN&maxFeatures=50&outputFormat=application%2Fjson', 'cache_last_updated': None, 'package_id': '1fb951f9-dd0e-4bfc-b87b-06f8c3d8a49d', 'created': '2020-04-15T10:21:37.140951', 'state': 'active', 'mimetype_inner': None, 'last_modified': None, 'position': 0, 'revision_id': '85964dfb-cf39-42ae-abab-ac09cb6ffb0a', 'url_type': None, 'id': '17a542f8-c8c7-4f5c-be93-726bf41248aa', 'resource_type': None, 'size': None}, {'mimetype': None, 'cache_url': None, 'hash': '', 'description': '', 'name': 'CSV', 'format': 'CSV', 'url': 'https://geoserver.digitale-mrn.de/geoserver/metropolatlas/ows?service=WFS&version=1.0.0&request=GetFeature&typeName=metropolatlas%3A2020_04_OSM_Skript_Education_MRN&maxFeatures=50&outputFormat=csv', 'cache_last_updated': None, 'package_id': '1fb951f9-dd0e-4bfc-b87b-06f8c3d8a49d', 'created': '2020-10-20T15:55:02.330143', 'state': 'active', 'mimetype_inner': None, 'last_modified': None, 'position': 1, 'revision_id': '257384af-af0a-498b-ab57-9f94f1d8357c', 'url_type': None, 'id': '39412410-57c4-4166-bd0e-32e08b61043c', 'resource_type': None, 'size': None}, {'mimetype': None, 'cache_url': None, 'hash': '', 'description': '', 'name': 'GeoPackage', 'format': 'GeoPackage', 'url': 'https://geoserver.digitale-mrn.de/geoserver/metropolatlas/ows?service=WFS&version=1.0.0&request=GetFeature&typeName=metropolatlas%3A2020_04_OSM_Skript_Education_MRN&maxFeatures=50&outputFormat=application%2Fx-gpkg', 'cache_last_updated': None, 'package_id': '1fb951f9-dd0e-4bfc-b87b-06f8c3d8a49d', 'created': '2020-10-20T15:55:02.674444', 'state': 'active', 'mimetype_inner': None, 'last_modified': None, 'position': 2, 'revision_id': '42735185-4557-47cb-8ea1-f73ea4f26157', 'url_type': None, 'id': '24e25ea2-a52b-4208-87bd-e6e1845833f9', 'resource_type': None, 'size': None}], 'num_resources': 3, 'tags': [{'vocabulary_id': None, 'state': 'active', 'display_name': 'Bildung', 'id': '54d8da4b-d894-4b9a-861b-cdbc930cbda7', 'name': 'Bildung'}, {'vocabulary_id': None, 'state': 'active', 'display_name': 'Lebensqualität', 'id': 'f1e1b6c4-743e-450e-b425-86fb432de456', 'name': 'Lebensqualität'}, {'vocabulary_id': None, 'state': 'active', 'display_name': 'Verkehrsmodell', 'id': '03312b38-5b52-4f12-a637-22a3391ee097', 'name': 'Verkehrsmodell'}], 'groups': [], 'license_id': 'odc-odbl', 'relationships_as_subject': [], 'organization': {'description': 'Die Gestaltung des digitalen Wandels wird in der Metropolregion Rhein Neckar (MRN) seit 2006 als ein strategisches Handlungsfeld der Regionalentwicklung verstanden. In diesem Zeitraum ist es der MRN gelungen, eine deutschlandweit einzigartige Regional Governance zu erstellen, die auf einer transparenten, länderübergreifenden und mehrwertorientierten Kooperationskultur fußt und die Basis für einen deutschlandweit bekannten und anerkannten Innovations- und Erprobungsraums im Kontext des kooperativen E-Governments bildet. Ins Zentrum dieses Innovations- und Erprobungsraumes ist in den letzten Jahren die gemeinsame Erschließung und Nutzung digitaler Daten gerückt. Daten sind gerade auf kommunaler und regionaler Ebene eine zentrale Ressource der aktiven Gestaltung des Gemeinwesens und der Verwaltungsvereinfachung. Die digitale Transformation bietet hier bedeuten-de Chancen, weil sie Verwaltungsleistungen nicht nur schneller und einfacher zugänglich macht, sondern die Verwaltung auch in einem höheren Maß für Bürgerbeteiligung und Transparenz öffnet (Open Government).', 'created': '2020-02-26T13:35:18.099686', 'title': 'Metropolregion Rhein-Neckar', 'name': 'mrn', 'is_organization': True, 'state': 'active', 'image_url': '2020-03-02-154426.703142MRNLogoDachmarkefarbig.png', 'revision_id': 'c17b7950-956c-4bec-a04a-ff82a6c845e5', 'type': 'organization', 'id': 'dd656913-cfa5-45ec-9423-7b0113324fbc', 'approval_status': 'approved'}, 'name': 'osm_bildung', 'isopen': True, 'url': '', 'notes': 'Universitäten und Volkshochschulen in der Region Rhein-Neckar \\r\\n\\r\\nWeitere Infos: https://wiki.openstreetmap.org/wiki/Tag:amenity%3Dcollege \\r\\n\\r\\nhttps://wiki.openstreetmap.org/wiki/Tag:amenity%3Duniversity ', 'owner_org': 'dd656913-cfa5-45ec-9423-7b0113324fbc', 'extras': [{'key': 'Jahr', 'value': '2020'}, {'key': 'source', 'value': 'OpenStreetMap Mitwirkende'}], 'license_url': 'http://www.opendefinition.org/licenses/odc-odbl', 'title': 'Höhere Bildungseinrichtungen', 'revision_id': '465b4898-0e6c-4502-ba07-1af6fd2858d1'}\n"
     ]
    }
   ],
   "source": [
    "url = \"https://daten.digitale-mrn.de/api/3/action/package_search\"\n",
    "\n",
    "# filter for datasets with tag \"Verkehrsmodell\"\n",
    "# rows is the parameter to extend the request limit, default = 20, max = 1000\n",
    "params = {'fq':'tags:Verkehrsmodell',\n",
    "         'rows': '1000'}\n",
    "\n",
    "res = requests.get(url, params).json()\n",
    "\n",
    "data = res['result']['results']\n",
    "\n",
    "\n",
    "########### extract resource url, reuqest geojson data and save to disc ###########\n",
    "for dataset in data:\n",
    "\n",
    "    # there can be multiple resources for one dataset, we want the geojson one\n",
    "    for format_ in dataset['resources']:\n",
    "        if(format_['format'] == 'GeoJSON'):\n",
    "            \n",
    "            # ectract geoserver url from the resource of the dataset\n",
    "            url_dataset = format_['url']\n",
    "            # request data from geoserver\n",
    "            res_dataset = requests.get(url_dataset)\n",
    "            \n",
    "            # extract features form geojson\n",
    "            try:\n",
    "                dataset_features = res_dataset.json()['features']\n",
    "            except:\n",
    "                print(dataset)\n",
    "            # create new gdf from features\n",
    "            gdf = gpd.GeoDataFrame.from_features(dataset_features)\n",
    "            \n",
    "            # create file name from geoserver layer name\n",
    "            file_name = url_dataset.split('metropolatlas%3A')[1]\n",
    "            file_name = file_name.split('&')[0]\n",
    "            \n",
    "            # save file, can be changed to shapefile, geopackage...\n",
    "            gdf.to_file(file_name+'.geojson', driver='GeoJSON')"
   ]
  },
  {
   "cell_type": "code",
   "execution_count": null,
   "metadata": {},
   "outputs": [],
   "source": []
  }
 ],
 "metadata": {
  "kernelspec": {
   "display_name": "Python 3",
   "language": "python",
   "name": "python3"
  },
  "language_info": {
   "codemirror_mode": {
    "name": "ipython",
    "version": 3
   },
   "file_extension": ".py",
   "mimetype": "text/x-python",
   "name": "python",
   "nbconvert_exporter": "python",
   "pygments_lexer": "ipython3",
   "version": "3.8.6"
  }
 },
 "nbformat": 4,
 "nbformat_minor": 4
}
